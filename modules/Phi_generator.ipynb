{
 "cells": [
  {
   "cell_type": "code",
   "execution_count": 47,
   "metadata": {},
   "outputs": [],
   "source": [
    "import itertools\n",
    "import math\n",
    "\n",
    "import numpy as np"
   ]
  },
  {
   "attachments": {},
   "cell_type": "markdown",
   "metadata": {},
   "source": [
    "### <span style=\"color: yellow; \">Phi Generator</span>"
   ]
  },
  {
   "attachments": {},
   "cell_type": "markdown",
   "metadata": {},
   "source": [
    "This class generates <span style=\"color: red; \">**the Design Matrix**</span>($={\\bf \\Phi}$) from ${\\bf X}$.\n",
    "\n",
    "$$\n",
    "{\\bf \\Phi} = \n",
    "    \\left[\\begin{array}{c}\n",
    "        {\\phi}_{0}({\\bf x}_{1}) & {\\phi}_{1}({\\bf x}_{1}) & {\\phi}_{2}({\\bf x}_{1}) & \\cdots & {\\phi}_{P-1}({\\bf x}_{1}) \\\\\n",
    "        {\\phi}_{0}({\\bf x}_{2}) & {\\phi}_{1}({\\bf x}_{2}) & {\\phi}_{2}({\\bf x}_{2}) & \\cdots & {\\phi}_{P-1}({\\bf x}_{2}) \\\\\n",
    "        \\vdots & \\vdots & \\vdots & \\ddots & \\vdots \\\\\n",
    "        {\\phi}_{0}({\\bf x}_{N}) & {\\phi}_{1}({\\bf x}_{N}) & {\\phi}_{2}({\\bf x}_{N}) & \\cdots & {\\phi}_{P-1}({\\bf x}_{N}) \\\\\n",
    "    \\end{array}\\right]\n",
    "\\\\\n",
    "{\\bf X} = {[{\\bf x}_{1}, {\\bf x}_{2}, ..., {\\bf x}_{N}]}^{T}\n",
    "$$\n",
    "\n",
    "This consists of the following methods and fields:\n",
    "\n",
    "<span style=\"color: red; \">**methods**</span>\n",
    "* generatePhi(self, type, order=None, sigma=None) :\n",
    "\n",
    "    generate Phi($={\\bf \\Phi}$) from ${\\bf X}$ given in constructor. The basis functions is determined by *type*('linear', 'polynomial' or 'gaussian'). `order`($=d_{p}$) is ignored if we don't choose the polynomial, and `sigma`($={\\sigma}$) if we don't choose the Gaussian.\n",
    "    Actually This method simply calls the following three private methods.\n",
    "\n",
    "* __generatePhiL(self) : *private*\n",
    "\n",
    "    generate Phi($={\\bf \\Phi}$) from ${\\bf X}$ given in constructor using <span style=\"color: red; \">**the Linear Function**</span>. Actually we only need to insert a column filled with 1 in 0th column.\n",
    "\n",
    "$$\n",
    "{\\phi}_{i}({\\bf x}_{n}) = \\left\\{\\begin{array}{ll}\n",
    "                                    1 & i = 0 \\\\\n",
    "                                    {[{\\bf x}_{n}]}_{i} & {\\rm Otherwise}\n",
    "                                 \\end{array}\n",
    "                           \\right.\n",
    "$$\n",
    "\n",
    "* __generatePhiP(self, order) : *private*\n",
    "\n",
    "    generate Phi($={\\bf \\Phi}$) from ${\\bf X}$ given in constructor using <span style=\"color: red; \">**the Polynomial Function**</span>. In this case, `order`(=$d_{p}$) is a parameter controling the dimentionality of the function and denotes the sum of $i_{j}$. This includes two inner methods to generate multi-index $i = (i_{1}, ..., i_{d_{in}})$ and to compute ${\\phi}_{i}({\\bf x}_{n})$.\n",
    "$$\n",
    "d_{p} = {\\sum}^{d_{in}}_{j} {i}_{j} \\\\\n",
    "{\\phi}_{i}({\\bf x}_{n}) = {\\prod}^{d_{in}}_{j} {({[{\\bf x}_{n}]}_{j})}^{{i}_{j}}\n",
    "$$\n",
    "\n",
    "* __generatePhiG(self, sigma) : *private*\n",
    "\n",
    "    generate Phi($={\\bf \\Phi}$) from ${\\bf X}$ given in constructor using <span style=\"color: red; \">**the Gaussian Function**</span>. This also includes a inner method to compute ${\\phi}_{i}({\\bf x}_{n})$.\n",
    "\n",
    "$$\n",
    "{\\phi}_{i}({\\bf x}_{n}) = \\left\\{\\begin{array}{ll}\n",
    "                                    1 & i = 0 \\\\\n",
    "                                    e^{-{||{\\bf x}_{n}-{\\bf x}_{i}||}^{2}/(2{\\sigma}^{2})} & {\\rm Otherwise}\n",
    "                                 \\end{array}\n",
    "                           \\right.\n",
    "$$\n",
    "\n",
    "<span style=\"color: red; \">**fields**</span>\n",
    "\n",
    "* X($={\\bf X}$) :\n",
    "\n",
    "    raw input matrix"
   ]
  },
  {
   "cell_type": "code",
   "execution_count": 48,
   "metadata": {},
   "outputs": [],
   "source": [
    "class PhiGenerator():\n",
    "    def __init__(self, X: np.ndarray):\n",
    "        self.X = X\n",
    "        return\n",
    "    \n",
    "    def generatePhi(self, type: str, order: int=None, sigma: float=None):\n",
    "        if type == 'linear':\n",
    "            return self.__generatePhiL()\n",
    "        if type == 'polynomial':\n",
    "            return self.__gereratePhiP(order)\n",
    "        if type == 'gaussian':\n",
    "            return self.__generatePhiG(sigma)\n",
    "        \n",
    "        print('ERROR: invalid `type`. `type` should be \\'linear\\', \\'polynomial\\' or \\'gaussian\\'. returns None')\n",
    "        return None\n",
    "\n",
    "    def __generatePhiL(self):\n",
    "        return np.insert(self.X, 0, 1, axis=1)\n",
    "    \n",
    "    def __gereratePhiP(self, order: int):\n",
    "        if order is None:\n",
    "            print('ERROR: `order` is None. returns None')\n",
    "            return None\n",
    "        \n",
    "        def prepareMultiIndices(size: int, order: int):\n",
    "            buckets = [[] * size for i in range(order + 1)]\n",
    "\n",
    "            for multi_index in itertools.product(range(order+1), repeat=size):\n",
    "                s = sum(multi_index)\n",
    "                if s > order: continue\n",
    "                # evacate the　generated list temporarily\n",
    "                buckets[s].append(multi_index)\n",
    "            \n",
    "            # sort it in a preferred order\n",
    "            multi_indices = []\n",
    "            for bucket in buckets:\n",
    "                for multi_index in reversed(bucket):\n",
    "                    multi_indices.append(multi_index)\n",
    "\n",
    "            return multi_indices\n",
    "        \n",
    "        def calc_phi(x_n: np.ndarray, i: list):\n",
    "            if len(i) != x_n.shape[0]:\n",
    "                print('WARNING: length of multi-index i != lengh of x_n')\n",
    "            phi = 1\n",
    "            for j, i_j in enumerate(i):\n",
    "                phi = phi * (x_n[j] ** i_j)\n",
    "\n",
    "            return phi\n",
    "        \n",
    "        multi_indices = prepareMultiIndices(self.X.shape[1], order)\n",
    "\n",
    "        Phi = np.zeros([self.X.shape[0], len(multi_indices)])\n",
    "\n",
    "        for row in range(self.X.shape[0]):\n",
    "            for column, i in enumerate(multi_indices):\n",
    "                Phi[row][column] = calc_phi(self.X[row], i)\n",
    "\n",
    "        return Phi\n",
    "    \n",
    "    def __generatePhiG(self, sigma: float):\n",
    "        if sigma is None:\n",
    "            print('ERROR: `sigma` is None. returns None')\n",
    "            return None\n",
    "\n",
    "        def calc_phi(x_n: np.ndarray, x_i: np.ndarray, sigma: float):\n",
    "            residue = x_n - x_i\n",
    "            exponent = -np.sum(residue ** 2) / (2 * (sigma ** 2))\n",
    "            return math.exp(exponent)\n",
    "\n",
    "        Phi = np.zeros([self.X.shape[0], self.X.shape[0] + 1])\n",
    "\n",
    "        for row in range(self.X.shape[0]):\n",
    "            Phi[row][0] = 1\n",
    "            for column in range(self.X.shape[0]):\n",
    "                Phi[row][column + 1] = calc_phi(self.X[row], self.X[column], sigma)\n",
    "        \n",
    "        return Phi"
   ]
  },
  {
   "attachments": {},
   "cell_type": "markdown",
   "metadata": {},
   "source": [
    "#### <span style=\"color: yellow; \">Module Test</span>"
   ]
  },
  {
   "attachments": {},
   "cell_type": "markdown",
   "metadata": {},
   "source": [
    "As a test, we generate a toy sample:\n",
    "$$\n",
    "{\\bf X} = \n",
    "    \\left[\\begin{array}{c}\n",
    "        0 & 1 & 2 \\\\\n",
    "        1 & 2 & 3 \\\\\n",
    "        \\vdots & \\vdots & \\vdots \\\\\n",
    "        4 & 5 & 6 \\\\\n",
    "    \\end{array}\\right]\n",
    "$$"
   ]
  },
  {
   "cell_type": "code",
   "execution_count": 49,
   "metadata": {},
   "outputs": [
    {
     "name": "stdout",
     "output_type": "stream",
     "text": [
      "[[0 1 2]\n",
      " [1 2 3]\n",
      " [2 3 4]\n",
      " [3 4 5]\n",
      " [4 5 6]]\n"
     ]
    }
   ],
   "source": [
    "if __name__ == '__main__':\n",
    "    num_samples = 5\n",
    "    X = []\n",
    "    for row in range(num_samples):\n",
    "        X.append(list(range(row, row+3)))\n",
    "    \n",
    "    X = np.array(X)\n",
    "    print(X)\n",
    "\n",
    "    generator = PhiGenerator(X)"
   ]
  },
  {
   "attachments": {},
   "cell_type": "markdown",
   "metadata": {},
   "source": [
    "By the linear basis function, ${\\bf \\Phi}$ will be:\n",
    "$$\n",
    "{\\bf \\Phi} = \n",
    "    \\left[\\begin{array}{c}\n",
    "        1 & 0 & 1 & 2 \\\\\n",
    "        1 & 1 & 2 & 3 \\\\\n",
    "        \\vdots & \\vdots & \\vdots \\\\\n",
    "        1 & 4 & 5 & 6 \\\\\n",
    "    \\end{array}\\right]\n",
    "$$"
   ]
  },
  {
   "cell_type": "code",
   "execution_count": 50,
   "metadata": {},
   "outputs": [
    {
     "name": "stdout",
     "output_type": "stream",
     "text": [
      "[[1 0 1 2]\n",
      " [1 1 2 3]\n",
      " [1 2 3 4]\n",
      " [1 3 4 5]\n",
      " [1 4 5 6]]\n"
     ]
    }
   ],
   "source": [
    "if __name__ == '__main__':\n",
    "    Phi = generator.generatePhi('linear')\n",
    "    print(Phi)"
   ]
  },
  {
   "attachments": {},
   "cell_type": "markdown",
   "metadata": {},
   "source": [
    "By the polynomial basis function with $d_{p} = 2$, ${\\bf \\Phi}$ will be:\n",
    "$$\n",
    "{\\bf \\Phi} = \n",
    "    \\left[\\begin{array}{c}\n",
    "        1 & 0 & 1 & 2 & 0 & 0 & 0 & 1 & 2 & 4 \\\\\n",
    "        1 & 1 & 2 & 3 & 1 & 2 & 3 & 4 & 6 & 9 \\\\\n",
    "        \\vdots & \\vdots & \\vdots & \\vdots & \\vdots & \\vdots & \\vdots & \\vdots & \\vdots & \\vdots\\\\\n",
    "        1 & 4 & 5 & 6 & 16 & 20 & 24 & 25 & 30 & 36\\\\\n",
    "    \\end{array}\\right]\n",
    "$$\n",
    "because ${\\bf \\Phi}_{{1, 5}}=0=0\\times0, {\\bf \\Phi}_{{1, 6}}=0=0\\times1, {\\bf \\Phi}_{{1, 7}}=2=0\\times2, {\\bf \\Phi}_{{1, 8}}=0=1\\times1, {\\bf \\Phi}_{(1, 9)}=2=1\\times2, {\\bf \\Phi}_{(1, 10)}=4=2\\times2$..."
   ]
  },
  {
   "cell_type": "code",
   "execution_count": 51,
   "metadata": {},
   "outputs": [
    {
     "name": "stdout",
     "output_type": "stream",
     "text": [
      "[[ 1.  0.  1.  2.  0.  0.  0.  1.  2.  4.]\n",
      " [ 1.  1.  2.  3.  1.  2.  3.  4.  6.  9.]\n",
      " [ 1.  2.  3.  4.  4.  6.  8.  9. 12. 16.]\n",
      " [ 1.  3.  4.  5.  9. 12. 15. 16. 20. 25.]\n",
      " [ 1.  4.  5.  6. 16. 20. 24. 25. 30. 36.]]\n"
     ]
    }
   ],
   "source": [
    "if __name__ == '__main__':\n",
    "    Phi = generator.generatePhi('polynomial', order=2)\n",
    "    print(Phi)"
   ]
  },
  {
   "attachments": {},
   "cell_type": "markdown",
   "metadata": {},
   "source": [
    "By the gaussian basis function with $\\sigma = 1$, ${\\bf \\Phi}$ will be:\n",
    "$$\n",
    "{\\bf \\Phi} = \n",
    "    \\left[\\begin{array}{c}\n",
    "        1 & 1 & e^{-3/2} & e^{-6} & e^{-27/2} & e^{-24}\\\\\n",
    "        1 & e^{-3/2} & 1 & e^{-3/2} & e^{-6} & e^{-27/2}\\\\\n",
    "        \\vdots & \\vdots & \\vdots & \\vdots & \\vdots & \\vdots\\\\\n",
    "        1 & e^{-24} & e^{-27/2} & e^{-6} & e^{-3/2} & 1\\\\\n",
    "    \\end{array}\\right]\n",
    "$$\n",
    "because in this case ${||{\\bf x}_{n}-{\\bf x}_{i}||}^{2} = 3{(n-x)}^{2}$"
   ]
  },
  {
   "cell_type": "code",
   "execution_count": 52,
   "metadata": {},
   "outputs": [
    {
     "name": "stdout",
     "output_type": "stream",
     "text": [
      "[[1.00000000e+00 1.00000000e+00 2.23130160e-01 2.47875218e-03\n",
      "  1.37095909e-06 3.77513454e-11]\n",
      " [1.00000000e+00 2.23130160e-01 1.00000000e+00 2.23130160e-01\n",
      "  2.47875218e-03 1.37095909e-06]\n",
      " [1.00000000e+00 2.47875218e-03 2.23130160e-01 1.00000000e+00\n",
      "  2.23130160e-01 2.47875218e-03]\n",
      " [1.00000000e+00 1.37095909e-06 2.47875218e-03 2.23130160e-01\n",
      "  1.00000000e+00 2.23130160e-01]\n",
      " [1.00000000e+00 3.77513454e-11 1.37095909e-06 2.47875218e-03\n",
      "  2.23130160e-01 1.00000000e+00]]\n",
      "e^(-3/2) = 0.22313016014842982\n",
      "e^(-6) = 0.0024787521766663585\n",
      "e^(-27/2) = 1.3709590863840845e-06\n",
      "e^(-24) = 3.775134544279098e-11\n"
     ]
    }
   ],
   "source": [
    "if __name__ == '__main__':\n",
    "    Phi = generator.generatePhi('gaussian', sigma=1)\n",
    "    print(Phi)\n",
    "    print('e^(-3/2) = ' + str(np.exp(-3/2)))\n",
    "    print('e^(-6) = ' + str(np.exp(-6)))\n",
    "    print('e^(-27/2) = ' + str(np.exp(-27/2)))\n",
    "    print('e^(-24) = ' + str(np.exp(-24)))"
   ]
  },
  {
   "cell_type": "code",
   "execution_count": 53,
   "metadata": {},
   "outputs": [
    {
     "name": "stderr",
     "output_type": "stream",
     "text": [
      "[NbConvertApp] Converting notebook Phi_generator.ipynb to python\n",
      "[NbConvertApp] Writing 8385 bytes to Phi_generator.py\n",
      "[NbConvertApp] Converting notebook splitter.ipynb to python\n",
      "[NbConvertApp] Writing 4726 bytes to splitter.py\n",
      "[NbConvertApp] Converting notebook k_fold_CV.ipynb to python\n",
      "[NbConvertApp] Writing 4972 bytes to k_fold_CV.py\n",
      "[NbConvertApp] Converting notebook visualizer.ipynb to python\n",
      "[NbConvertApp] Writing 1552 bytes to visualizer.py\n",
      "[NbConvertApp] Converting notebook my_model.ipynb to python\n"
     ]
    },
    {
     "name": "stdout",
     "output_type": "stream",
     "text": [
      "Saved as Phi_generator.py\n"
     ]
    },
    {
     "name": "stderr",
     "output_type": "stream",
     "text": [
      "[NbConvertApp] Writing 3731 bytes to my_model.py\n"
     ]
    }
   ],
   "source": [
    "if 'get_ipython' in globals():\n",
    "    import subprocess\n",
    "    subprocess.run(['jupyter', 'nbconvert', '--to', 'python', '*.ipynb'])\n",
    "    print('Saved as Phi_generator.py')"
   ]
  }
 ],
 "metadata": {
  "kernelspec": {
   "display_name": "Python 3",
   "language": "python",
   "name": "python3"
  },
  "language_info": {
   "codemirror_mode": {
    "name": "ipython",
    "version": 3
   },
   "file_extension": ".py",
   "mimetype": "text/x-python",
   "name": "python",
   "nbconvert_exporter": "python",
   "pygments_lexer": "ipython3",
   "version": "3.9.6"
  },
  "orig_nbformat": 4
 },
 "nbformat": 4,
 "nbformat_minor": 2
}
