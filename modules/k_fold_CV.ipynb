{
 "cells": [
  {
   "cell_type": "code",
   "execution_count": 15,
   "metadata": {},
   "outputs": [],
   "source": [
    "import sys\n",
    "\n",
    "import numpy as np\n",
    "\n",
    "from my_model import MyModel\n",
    "from Phi_generator import PhiGenerator\n",
    "from splitter import Splitter"
   ]
  },
  {
   "attachments": {},
   "cell_type": "markdown",
   "metadata": {},
   "source": [
    "### <span style=\"color: yellow; \">K-Fold Cross Validator</span>"
   ]
  },
  {
   "attachments": {},
   "cell_type": "markdown",
   "metadata": {},
   "source": [
    "$P$ in the Polynomial and ${\\sigma}$ in the Gaussian are pre-set parameters but we don't know the suitable values of them.\n",
    "Let us try cross validation to find the values. In this case, we don't regard `ridge-coeff` as a pre-set parameter.\n",
    "\n",
    "This consists of the following methods and fields:\n",
    "\n",
    "<span style=\"color: red; \">**methods**</span>\n",
    "\n",
    "* \\_\\_init\\_\\_(self, X, Y) : *constructor*\n",
    "\n",
    "    Stores `X`(${\\bf X}$) and `Y`(${\\bf Y}$), then instanciates Phigenerator(see `Phi_generator.ipynb` for detail).\n",
    "\n",
    "* __validate(self, Phi, num_splits, shuffle, seed, ridge_coeff) : *private*\n",
    "\n",
    "    Compute a validation score by K-fold validation. The model and splitter is generated inside. The score is the average of the losses in each split, so the lower score means the better performance.\n",
    "\n",
    "* findBestParameter(self, type, candidates, num_splits, shuffle, seed, ridge_coeff) :\n",
    "\n",
    "    Find a parameter in `candidates` which achieved the lowest validation score. Phi(${\\bf \\Phi}$) is generated using `type`. If `type` is 'polynomial', `candidates` must be a list of `order`. If 'gaussian', a list of `sigma`.\n",
    "\n",
    "<span style=\"color: red; \">**fields**</span>\n",
    "\n",
    "* X, Y :\n",
    "\n",
    "    the copy of X(${\\bf X}$) and Y(${\\bf Y}$)\n",
    "\n",
    "* generator :\n",
    "\n",
    "    a instance of Phigenerator\n",
    "\n",
    "* model :\n",
    "\n",
    "    a instance of MyModel to be used for validation"
   ]
  },
  {
   "cell_type": "code",
   "execution_count": 16,
   "metadata": {},
   "outputs": [],
   "source": [
    "class KFoldCV():\n",
    "    def __init__(self, X: np.ndarray, Y: np.ndarray):\n",
    "        self.X = X.copy()\n",
    "        self.Y = Y.copy()\n",
    "        self.generator = PhiGenerator(self.X)\n",
    "\n",
    "        return\n",
    "\n",
    "    def __validate(self, Phi: np.ndarray, num_splits: int, shuffle: bool=False,\n",
    "                   seed: int=None, ridge_coeff: float=0):\n",
    "        splitter = Splitter(Phi, self.Y, num_splits, shuffle, seed)\n",
    "        sum_losses = 0\n",
    "        for k in range(num_splits):\n",
    "            Phi_train, Phi_test, Y_train, Y_test = splitter.split()\n",
    "            self.model = MyModel()\n",
    "            self.model.fit(Phi_train, Y_train, ridge_coeff, False)\n",
    "\n",
    "            loss = self.model.calcLoss(self.model.predict(Phi_test), Y_test)\n",
    "            sum_losses = sum_losses + loss\n",
    "        \n",
    "        return (sum_losses / num_splits)\n",
    "    \n",
    "    def findBestParameter(self, type: str, candidates: list, num_splits: int, shuffle: bool=False,\n",
    "                          seed: int=None, ridge_coeff: float=0):\n",
    "        best_params = None\n",
    "        best_loss = sys.float_info.max\n",
    "        for candidate in candidates:\n",
    "\n",
    "            if type == 'polynomial':\n",
    "                Phi = self.generator.generatePhi(type, order=candidate)\n",
    "            elif type == 'gaussian':\n",
    "                Phi = self.generator.generatePhi(type, sigma=candidate)\n",
    "            else:\n",
    "                print('ERROR: `type` must be  \\'polynomial\\' or \\'gaussian\\'. returns None')\n",
    "                return None\n",
    "            \n",
    "            model = MyModel()\n",
    "            loss = self.__validate(Phi, num_splits, shuffle, seed, ridge_coeff)\n",
    "\n",
    "            if best_loss <= loss: continue\n",
    "\n",
    "            best_params = candidate\n",
    "            best_loss = loss\n",
    "        \n",
    "        return best_params, best_loss"
   ]
  },
  {
   "attachments": {},
   "cell_type": "markdown",
   "metadata": {},
   "source": [
    "#### <span style=\"color: yellow; \">Module Test</span>"
   ]
  },
  {
   "attachments": {},
   "cell_type": "markdown",
   "metadata": {},
   "source": [
    "As a test, we generate a toy sample:\n",
    "$$\n",
    "{[{\\bf y}_{n}]}_{1} = {[{\\bf x}_{n}]}_{1} + {[{\\bf x}_{n}]}_{2} \\\\\n",
    "{[{\\bf y}_{n}]}_{2} = {[{\\bf x}_{n}]}_{2} + {[{\\bf x}_{n}]}_{3} \\\\\n",
    "{[{\\bf y}_{n}]}_{3} = {[{\\bf x}_{n}]}_{3} + {[{\\bf x}_{n}]}_{1} \\\\\n",
    "$$\n",
    "Each of elements of ${\\bf X}$ is determined at random."
   ]
  },
  {
   "cell_type": "code",
   "execution_count": 17,
   "metadata": {},
   "outputs": [],
   "source": [
    "if __name__ == '__main__':\n",
    "    num_samples = 100\n",
    "    input_size = 3\n",
    "    np.random.seed(0)\n",
    "    X = np.random.rand(num_samples, input_size)\n",
    "    Y = np.zeros((num_samples, 3))\n",
    "    for row in range(num_samples):\n",
    "        Y[row][0] = X[row][0] + X[row][1]\n",
    "        Y[row][1] = X[row][1] + X[row][2]\n",
    "        Y[row][2] = X[row][2] + X[row][0]\n",
    "    \n",
    "    kfcv = KFoldCV(X, Y)"
   ]
  },
  {
   "attachments": {},
   "cell_type": "markdown",
   "metadata": {},
   "source": [
    "We try cross validation. We can easily expect the case with $d_{p}=1$ is the best, because we didn't include any multi-dimentional terms when generating the data."
   ]
  },
  {
   "cell_type": "code",
   "execution_count": 18,
   "metadata": {},
   "outputs": [
    {
     "name": "stdout",
     "output_type": "stream",
     "text": [
      "best_params: 1\n",
      "best_loss: 7.324729034977452e-30\n",
      "expected function :\n",
      "y_{0} =\n",
      "2.1359746234174892e-15 x_{0}\n",
      "\t + 0.9999999999999957 x_{1}\n",
      "\t + 0.9999999999999998 x_{2}\n",
      "\t + 1.5272303347868075e-15 x_{3}\n",
      "y_{1} =\n",
      "8.343072845542003e-17 x_{0}\n",
      "\t + -6.699220833408586e-16 x_{1}\n",
      "\t + 1.0000000000000009 x_{2}\n",
      "\t + 1.0000000000000009 x_{3}\n",
      "y_{2} =\n",
      "1.7484842226715233e-16 x_{0}\n",
      "\t + 0.9999999999999976 x_{1}\n",
      "\t + 4.057062718811716e-16 x_{2}\n",
      "\t + 1.0000000000000022 x_{3}\n",
      "loss: 3.567319146930813e-30\n"
     ]
    }
   ],
   "source": [
    "if __name__ == '__main__':\n",
    "    order_candidates = [1, 2, 3]\n",
    "    (best_params, best_loss) = kfcv.findBestParameter('polynomial', order_candidates, num_splits=3)\n",
    "\n",
    "    print('best_params: ' + str(best_params))\n",
    "    print('best_loss: ' + str(best_loss))\n",
    "\n",
    "    generator = PhiGenerator(X)\n",
    "    Phi = generator.generatePhi('polynomial', order=best_params)\n",
    "\n",
    "    model = MyModel()\n",
    "    model.fit(Phi, Y, verbose=True)\n",
    "\n",
    "    loss = model.calcLoss(model.predict(Phi), Y)\n",
    "    print('loss: ' + str(loss))"
   ]
  },
  {
   "cell_type": "code",
   "execution_count": 19,
   "metadata": {},
   "outputs": [
    {
     "name": "stderr",
     "output_type": "stream",
     "text": [
      "[NbConvertApp] Converting notebook Phi_generator.ipynb to python\n",
      "[NbConvertApp] Writing 8385 bytes to Phi_generator.py\n",
      "[NbConvertApp] Converting notebook splitter.ipynb to python\n",
      "[NbConvertApp] Writing 4726 bytes to splitter.py\n",
      "[NbConvertApp] Converting notebook k_fold_CV.ipynb to python\n",
      "[NbConvertApp] Writing 4929 bytes to k_fold_CV.py\n",
      "[NbConvertApp] Converting notebook visualizer.ipynb to python\n",
      "[NbConvertApp] Writing 1552 bytes to visualizer.py\n",
      "[NbConvertApp] Converting notebook my_model.ipynb to python\n"
     ]
    },
    {
     "name": "stdout",
     "output_type": "stream",
     "text": [
      "Saved as k_fold_CV.py\n"
     ]
    },
    {
     "name": "stderr",
     "output_type": "stream",
     "text": [
      "[NbConvertApp] Writing 3731 bytes to my_model.py\n"
     ]
    }
   ],
   "source": [
    "if 'get_ipython' in globals():\n",
    "    import subprocess\n",
    "    subprocess.run(['jupyter', 'nbconvert', '--to', 'python', '*.ipynb'])\n",
    "    print('Saved as k_fold_CV.py')"
   ]
  }
 ],
 "metadata": {
  "kernelspec": {
   "display_name": "Python 3",
   "language": "python",
   "name": "python3"
  },
  "language_info": {
   "codemirror_mode": {
    "name": "ipython",
    "version": 3
   },
   "file_extension": ".py",
   "mimetype": "text/x-python",
   "name": "python",
   "nbconvert_exporter": "python",
   "pygments_lexer": "ipython3",
   "version": "3.9.6"
  },
  "orig_nbformat": 4
 },
 "nbformat": 4,
 "nbformat_minor": 2
}
