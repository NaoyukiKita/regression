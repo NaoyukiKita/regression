{
 "cells": [
  {
   "cell_type": "code",
   "execution_count": 40,
   "metadata": {},
   "outputs": [],
   "source": [
    "import numpy as np"
   ]
  },
  {
   "attachments": {},
   "cell_type": "markdown",
   "metadata": {},
   "source": [
    "### <span style=\"color: yellow; \">Splitter For K-Fold Cross Validation</span>"
   ]
  },
  {
   "attachments": {},
   "cell_type": "markdown",
   "metadata": {},
   "source": [
    "This class splits the Design Matrix ${\\bf \\Phi}$ and ${\\bf Y}$ into train/test dataset. This is designed to be used in K-fold cross validation(see below).\n",
    "\n",
    "This consists of the following methods and fields:\n",
    "\n",
    "<span style=\"color: red; \">**methods**</span>\n",
    "* \\_\\_init\\_\\_(self, Phi, Y, num_splits, shuffle, seed) : *constructor*\n",
    "\n",
    "    Store the arguments and compute the size of the test subset using `num_splits`, which denotes the number of subsets. `indices` is used for partitioning the dataset(`Phi`(${\\bf \\Phi}$) and `Y`(${\\bf Y}$)) and is determined at random if `shuffle` is True, or in order if not.\n",
    "\n",
    "* resetTestIndicator(self) :\n",
    "\n",
    "    Reset `test_indicator` to 0. See <span style=\"color: red; \">**fields**</span> for detail.\n",
    "\n",
    "* split(self) :\n",
    "\n",
    "    Partition the dataset(`Phi`(${\\bf \\Phi}$) and `Y`(${\\bf Y}$)) into train/test dataset. Each time this is called, the position of the test dataset changes.\n",
    "\n",
    "<span style=\"color: red; \">**fields**</span>\n",
    "\n",
    "* num_splits :\n",
    "\n",
    "    the number of subsets you want to split into\n",
    "\n",
    "* subset_size :\n",
    "\n",
    "    the size of the test subset\n",
    "\n",
    "* test_indicator :\n",
    "\n",
    "    an index indicating the position of the test subset among the subsets.\n",
    "\n",
    "* indices :\n",
    "\n",
    "    indices determined to collect the elements of each subset. If `shuffle` is True, this will be shuffled.\n",
    "\n",
    "* Phi, Y :\n",
    "\n",
    "    the copy of the arguments `Phi`(${\\bf \\Phi}$) and `Y`(${\\bf Y}$)."
   ]
  },
  {
   "cell_type": "code",
   "execution_count": 41,
   "metadata": {},
   "outputs": [],
   "source": [
    "class Splitter():\n",
    "    def __init__(self, Phi: np.ndarray, Y: np.ndarray, num_splits: int, shuffle: bool=False, seed: int=None):\n",
    "        self.num_splits = num_splits\n",
    "        self.subset_size = int(Phi.shape[0] / num_splits)\n",
    "        self.test_indicator = 0\n",
    "\n",
    "        if shuffle:\n",
    "            if seed is not None: np.random.seed(seed)\n",
    "            self.indices = np.random.permutation(Phi.shape[0])\n",
    "        else:\n",
    "            self.indices = np.arange(Phi.shape[0])\n",
    "        \n",
    "        self.Phi = Phi.copy()\n",
    "        self.Y = Y.copy()\n",
    "        \n",
    "        return\n",
    "    \n",
    "    def resetTestIndicator(self):\n",
    "        self.test_indicator = 0\n",
    "\n",
    "        return\n",
    "    \n",
    "    def split(self):\n",
    "        if self.test_indicator == self.num_splits:\n",
    "            print('WARNING: All of subsets will be used for test(self.test_indicator == self.num_splits).', end='')\n",
    "            print('reset self.test_indicator to 0')\n",
    "            self.resetTestIndicator()\n",
    "            \n",
    "        test_start = self.subset_size * self.test_indicator\n",
    "        if self.test_indicator != self.num_splits-1:\n",
    "            test_stop = test_start + self.subset_size\n",
    "        else:\n",
    "            test_stop = self.Phi.shape[0]\n",
    "\n",
    "        test_indices = self.indices[test_start:test_stop]\n",
    "        train_indices = np.concatenate((self.indices[:test_start], self.indices[test_stop:]))\n",
    "\n",
    "        self.test_indicator = self.test_indicator + 1\n",
    "\n",
    "        return self.Phi[train_indices], self.Phi[test_indices], self.Y[train_indices], self.Y[test_indices]"
   ]
  },
  {
   "attachments": {},
   "cell_type": "markdown",
   "metadata": {},
   "source": [
    "#### <span style=\"color: yellow; \">Module Test</span>"
   ]
  },
  {
   "attachments": {},
   "cell_type": "markdown",
   "metadata": {},
   "source": [
    "As a test, we generate a toy sample:\n",
    "$$\n",
    "{\\bf \\Phi} = \n",
    "    \\left[\\begin{array}{c}\n",
    "        0 & 1 & 2 \\\\\n",
    "        1 & 2 & 3 \\\\\n",
    "        \\vdots & \\vdots & \\vdots \\\\\n",
    "        5 & 6 & 7 \\\\\n",
    "    \\end{array}\\right]\n",
    "\n",
    "{\\bf Y} =\n",
    "    \\left[\\begin{array}{c}\n",
    "        3 \\\\\n",
    "        4 \\\\\n",
    "        \\vdots \\\\\n",
    "        8 \\\\\n",
    "    \\end{array}\\right]\n",
    "$$"
   ]
  },
  {
   "cell_type": "code",
   "execution_count": 42,
   "metadata": {},
   "outputs": [
    {
     "name": "stdout",
     "output_type": "stream",
     "text": [
      "[[0 1 2]\n",
      " [1 2 3]\n",
      " [2 3 4]\n",
      " [3 4 5]\n",
      " [4 5 6]\n",
      " [5 6 7]]\n",
      "[[3]\n",
      " [4]\n",
      " [5]\n",
      " [6]\n",
      " [7]\n",
      " [8]]\n"
     ]
    }
   ],
   "source": [
    "if __name__ == '__main__':\n",
    "    num_samples = 6\n",
    "    Phi = []\n",
    "    Y = []\n",
    "    for row in range(num_samples):\n",
    "        Phi.append(list(range(row, row+3)))\n",
    "        Y.append([row+3])\n",
    "    \n",
    "    Phi = np.array(Phi)\n",
    "    Y = np.array(Y)\n",
    "    print(Phi)\n",
    "    print(Y)"
   ]
  },
  {
   "cell_type": "code",
   "execution_count": 43,
   "metadata": {},
   "outputs": [
    {
     "name": "stdout",
     "output_type": "stream",
     "text": [
      "Phi_train\n",
      "[[2 3 4]\n",
      " [3 4 5]\n",
      " [4 5 6]\n",
      " [5 6 7]]\n",
      "Phi_test\n",
      "[[0 1 2]\n",
      " [1 2 3]]\n",
      "Y_train\n",
      "[[5]\n",
      " [6]\n",
      " [7]\n",
      " [8]]\n",
      "Y_test\n",
      "[[3]\n",
      " [4]]\n",
      "\n",
      "Phi_train\n",
      "[[0 1 2]\n",
      " [1 2 3]\n",
      " [4 5 6]\n",
      " [5 6 7]]\n",
      "Phi_test\n",
      "[[2 3 4]\n",
      " [3 4 5]]\n",
      "Y_train\n",
      "[[3]\n",
      " [4]\n",
      " [7]\n",
      " [8]]\n",
      "Y_test\n",
      "[[5]\n",
      " [6]]\n",
      "\n",
      "Phi_train\n",
      "[[0 1 2]\n",
      " [1 2 3]\n",
      " [2 3 4]\n",
      " [3 4 5]]\n",
      "Phi_test\n",
      "[[4 5 6]\n",
      " [5 6 7]]\n",
      "Y_train\n",
      "[[3]\n",
      " [4]\n",
      " [5]\n",
      " [6]]\n",
      "Y_test\n",
      "[[7]\n",
      " [8]]\n",
      "\n"
     ]
    }
   ],
   "source": [
    "if __name__ == '__main__':\n",
    "    num_splits = 3\n",
    "    splitter = Splitter(Phi, Y, num_splits)\n",
    "\n",
    "    for iter in range(num_splits):\n",
    "        Phi_train, Phi_test, Y_train, Y_test = splitter.split()\n",
    "        print('Phi_train')\n",
    "        print(Phi_train)\n",
    "        print('Phi_test')\n",
    "        print(Phi_test)\n",
    "        print('Y_train')\n",
    "        print(Y_train)\n",
    "        print('Y_test')\n",
    "        print(Y_test)\n",
    "        print()\n",
    "    "
   ]
  },
  {
   "cell_type": "code",
   "execution_count": 44,
   "metadata": {},
   "outputs": [
    {
     "name": "stdout",
     "output_type": "stream",
     "text": [
      "Phi_train\n",
      "[[1 2 3]\n",
      " [3 4 5]\n",
      " [0 1 2]\n",
      " [4 5 6]]\n",
      "Phi_test\n",
      "[[5 6 7]\n",
      " [2 3 4]]\n",
      "Y_train\n",
      "[[4]\n",
      " [6]\n",
      " [3]\n",
      " [7]]\n",
      "Y_test\n",
      "[[8]\n",
      " [5]]\n",
      "\n"
     ]
    }
   ],
   "source": [
    "if __name__ == '__main__':\n",
    "    num_splits = 3\n",
    "    splitter = Splitter(Phi, Y, num_splits, shuffle=True, seed=0)\n",
    "    Phi_train, Phi_test, Y_train, Y_test = splitter.split()\n",
    "    print('Phi_train')\n",
    "    print(Phi_train)\n",
    "    print('Phi_test')\n",
    "    print(Phi_test)\n",
    "    print('Y_train')\n",
    "    print(Y_train)\n",
    "    print('Y_test')\n",
    "    print(Y_test)\n",
    "    print()"
   ]
  },
  {
   "cell_type": "code",
   "execution_count": 45,
   "metadata": {},
   "outputs": [
    {
     "name": "stderr",
     "output_type": "stream",
     "text": [
      "[NbConvertApp] Converting notebook Phi_generator.ipynb to python\n",
      "[NbConvertApp] Writing 8330 bytes to Phi_generator.py\n",
      "[NbConvertApp] Converting notebook splitter.ipynb to python\n",
      "[NbConvertApp] Writing 3441 bytes to splitter.py\n",
      "[NbConvertApp] Converting notebook k_fold_CV.ipynb to python\n",
      "[NbConvertApp] Writing 2397 bytes to k_fold_CV.py\n",
      "[NbConvertApp] Converting notebook visualizer.ipynb to python\n",
      "[NbConvertApp] Writing 930 bytes to visualizer.py\n",
      "[NbConvertApp] Converting notebook my_model.ipynb to python\n"
     ]
    },
    {
     "name": "stdout",
     "output_type": "stream",
     "text": [
      "Saved as splitter.py\n"
     ]
    },
    {
     "name": "stderr",
     "output_type": "stream",
     "text": [
      "[NbConvertApp] Writing 3711 bytes to my_model.py\n"
     ]
    }
   ],
   "source": [
    "if 'get_ipython' in globals():\n",
    "    import subprocess\n",
    "    subprocess.run(['jupyter', 'nbconvert', '--to', 'python', '*.ipynb'])\n",
    "    print('Saved as splitter.py')"
   ]
  }
 ],
 "metadata": {
  "kernelspec": {
   "display_name": "Python 3",
   "language": "python",
   "name": "python3"
  },
  "language_info": {
   "codemirror_mode": {
    "name": "ipython",
    "version": 3
   },
   "file_extension": ".py",
   "mimetype": "text/x-python",
   "name": "python",
   "nbconvert_exporter": "python",
   "pygments_lexer": "ipython3",
   "version": "3.9.6"
  },
  "orig_nbformat": 4
 },
 "nbformat": 4,
 "nbformat_minor": 2
}
