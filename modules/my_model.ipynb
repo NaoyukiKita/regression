{
 "cells": [
  {
   "cell_type": "code",
   "execution_count": 5,
   "metadata": {},
   "outputs": [],
   "source": [
    "import numpy as np"
   ]
  },
  {
   "attachments": {},
   "cell_type": "markdown",
   "metadata": {},
   "source": [
    "### <span style=\"color: yellow; \">Regression model</span>"
   ]
  },
  {
   "attachments": {},
   "cell_type": "markdown",
   "metadata": {},
   "source": [
    "This model performs a regression analysis. This consists of the following methods and fields:\n",
    "\n",
    "<span style=\"color: red; \">**methods**</span>\n",
    "* calcLoss(self, predicted, Y) :\n",
    " \n",
    "    Calculate the value of <span style=\"color: red; \">**the loss function**</span>, using predicted($={\\bf \\Phi}{\\bf w}^{*}$) and Y($={\\bf Y}$):\n",
    "    $$\n",
    "    {\\rm Loss}({\\bf w}) = \\frac{1}{N}({||{\\bf Y} - {\\bf \\Phi w}||}^{2} + \\lambda {||{\\bf w}||}^{2})\n",
    "    $$\n",
    "\n",
    "\n",
    "* predict(self, Phi) :\n",
    "\n",
    "    Compute outputs($={\\bf \\Phi}{\\bf w}^{*}$) corresponding to Phi($={\\bf \\Phi}$):\n",
    "\n",
    "\n",
    "* fit(self, Phi, Y, ridge_coeff, verbose) :\n",
    "\n",
    "    Optimize the weight matrix($={\\bf w^{*}}$) using Phi($={\\bf \\Phi}$), Y($={\\bf Y}$). It also uses ridge_coeff($=\\lambda$) to regularize the matrix. \n",
    "    $$\n",
    "    {\\bf w}^{*} = {({\\bf \\Phi}^{T}{\\bf \\Phi} + \\lambda {\\bf I})}^{-1}{\\bf \\Phi}^{T}{\\bf Y}\n",
    "    $$\n",
    "    If verbose is true, it displays the expected function.\n",
    "\n",
    "\n",
    "<span style=\"color: red; \">**fields**</span>\n",
    "* w_star($={\\bf w^{*}}$) : \n",
    "\n",
    "    the weight matrix to be tuned.\n",
    "\n",
    "* ridge_coeff($=\\lambda$) :\n",
    "\n",
    "    the coefficient of a L2-Regularization term."
   ]
  },
  {
   "cell_type": "code",
   "execution_count": 6,
   "metadata": {},
   "outputs": [],
   "source": [
    "class MyModel():\n",
    "    def __init__(self):\n",
    "        self.w_star = None\n",
    "        self.ridge_coeff = 0\n",
    "        self.fitted = False\n",
    "        return\n",
    "    \n",
    "    def calcLoss(self, predicted: np.ndarray, target:np.ndarray):\n",
    "        if not self.fitted:\n",
    "            print('WARNING: This model has not been fitted.')\n",
    "        residual = predicted - target\n",
    "        return (np.sum(residual ** 2) + self.ridge_coeff * np.sum(self.fitted ** 2)) / target.shape[0]\n",
    "\n",
    "    def predict(self, Phi: np.ndarray):\n",
    "        if not self.fitted:\n",
    "            print('WARNING: This model has not been fitted. returns None')\n",
    "            return None\n",
    "        return np.dot(Phi, self.w_star)\n",
    "        \n",
    "    def fit(self, Phi: np.ndarray, Y: np.ndarray, ridge_coeff: float=0, verbose: bool=False):\n",
    "        self.ridge_coeff = ridge_coeff\n",
    "\n",
    "        A = np.dot(Phi.T, Phi) + ridge_coeff * np.identity(Phi.shape[1])\n",
    "        A_inverse = np.linalg.inv(A)\n",
    "        B = np.dot(A_inverse, Phi.T)\n",
    "        self.w_star = np.dot(B, Y)\n",
    "\n",
    "        if verbose:\n",
    "            print('expected function :')\n",
    "            for i in range(Y.shape[1]):\n",
    "                print('y_{' + str(i) + '} =')\n",
    "                for j in range(Phi.shape[1]):\n",
    "                    if j: print('\\n\\t + ', end='')\n",
    "                    print(str(self.w_star[j][i]) + ' x_{' + str(j) + '}', end='')\n",
    "                print()\n",
    "        \n",
    "        self.fitted = True\n",
    "        \n",
    "        return self.w_star\n"
   ]
  },
  {
   "attachments": {},
   "cell_type": "markdown",
   "metadata": {},
   "source": [
    "#### <span style=\"color: yellow; \">Module Test</span>"
   ]
  },
  {
   "attachments": {},
   "cell_type": "markdown",
   "metadata": {},
   "source": [
    "As a test, we generate a toy sample:\n",
    "$$\n",
    "{[{\\bf y}_{n}]}_{1} = {[{\\bf x}_{n}]}_{1} + {[{\\bf x}_{n}]}_{2} \\\\\n",
    "{[{\\bf y}_{n}]}_{2} = {[{\\bf x}_{n}]}_{2} + {[{\\bf x}_{n}]}_{3} \\\\\n",
    "{[{\\bf y}_{n}]}_{3} = {[{\\bf x}_{n}]}_{3} + {[{\\bf x}_{n}]}_{1} \\\\\n",
    "$$\n",
    "and ${\\bf \\Phi} = {\\bf X}$. Each of elements of ${\\bf X}$ is determined at random."
   ]
  },
  {
   "cell_type": "code",
   "execution_count": 7,
   "metadata": {},
   "outputs": [
    {
     "name": "stdout",
     "output_type": "stream",
     "text": [
      "expected function :\n",
      "y_{0} =\n",
      "1.0000000000000002 x_{0}\n",
      "\t + 1.0000000000000007 x_{1}\n",
      "\t + -5.492506075867281e-16 x_{2}\n",
      "y_{1} =\n",
      "5.34389775556706e-16 x_{0}\n",
      "\t + 1.0000000000000002 x_{1}\n",
      "\t + 0.9999999999999993 x_{2}\n",
      "y_{2} =\n",
      "1.0000000000000009 x_{0}\n",
      "\t + -1.1591309826073316e-15 x_{1}\n",
      "\t + 1.0000000000000004 x_{2}\n",
      "4.411419574816739e-31\n"
     ]
    }
   ],
   "source": [
    "if __name__ == '__main__':\n",
    "    num_samples = 100\n",
    "    input_size = 3\n",
    "    Phi = np.random.rand(num_samples, input_size)\n",
    "    Y = np.zeros((num_samples, 3))\n",
    "    for row in range(num_samples):\n",
    "        Y[row][0] = Phi[row][0] + Phi[row][1]\n",
    "        Y[row][1] = Phi[row][1] + Phi[row][2]\n",
    "        Y[row][2] = Phi[row][2] + Phi[row][0]\n",
    "    \n",
    "    model = MyModel()\n",
    "    model.fit(Phi, Y, verbose=True)\n",
    "\n",
    "    print(model.calcLoss(model.predict(Phi), Y))\n"
   ]
  },
  {
   "cell_type": "code",
   "execution_count": 8,
   "metadata": {},
   "outputs": [
    {
     "name": "stderr",
     "output_type": "stream",
     "text": [
      "[NbConvertApp] Converting notebook Phi_generator.ipynb to python\n",
      "[NbConvertApp] Writing 8337 bytes to Phi_generator.py\n",
      "[NbConvertApp] Converting notebook splitter.ipynb to python\n",
      "[NbConvertApp] Writing 3441 bytes to splitter.py\n",
      "[NbConvertApp] Converting notebook k_fold_CV.ipynb to python\n",
      "[NbConvertApp] Writing 3880 bytes to k_fold_CV.py\n",
      "[NbConvertApp] Converting notebook visualizer.ipynb to python\n",
      "[NbConvertApp] Writing 1552 bytes to visualizer.py\n",
      "[NbConvertApp] Converting notebook my_model.ipynb to python\n"
     ]
    },
    {
     "name": "stdout",
     "output_type": "stream",
     "text": [
      "Saved as my_model.py\n"
     ]
    },
    {
     "name": "stderr",
     "output_type": "stream",
     "text": [
      "[NbConvertApp] Writing 3731 bytes to my_model.py\n"
     ]
    }
   ],
   "source": [
    "if 'get_ipython' in globals():\n",
    "    import subprocess\n",
    "    subprocess.run(['jupyter', 'nbconvert', '--to', 'python', '*.ipynb'])\n",
    "    print('Saved as my_model.py')"
   ]
  }
 ],
 "metadata": {
  "kernelspec": {
   "display_name": "Python 3",
   "language": "python",
   "name": "python3"
  },
  "language_info": {
   "codemirror_mode": {
    "name": "ipython",
    "version": 3
   },
   "file_extension": ".py",
   "mimetype": "text/x-python",
   "name": "python",
   "nbconvert_exporter": "python",
   "pygments_lexer": "ipython3",
   "version": "3.9.6"
  },
  "orig_nbformat": 4
 },
 "nbformat": 4,
 "nbformat_minor": 2
}
