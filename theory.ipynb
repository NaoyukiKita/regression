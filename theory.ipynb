{
 "cells": [
  {
   "attachments": {},
   "cell_type": "markdown",
   "metadata": {},
   "source": [
    "#### <span style=\"color: yellow; \">Regression by linear combination of basis functions</span>"
   ]
  },
  {
   "attachments": {},
   "cell_type": "markdown",
   "metadata": {},
   "source": [
    "We got the data points $({\\bf x}_{1}, {\\bf y}_{1}), ..., ({\\bf x}_{N}, {\\bf y}_{N})$ where ${\\bf x}_{n} \\in \\mathbb{Z}^{d_{in}}$ and ${\\bf y}_{n} \\in \\mathbb{Z}^{d_{out}}$. The task of regression is to estimate a function $f$ taking ${\\bf x}_{n}$ as an argument and ${\\bf y}_{n}$ as a returned value.\n",
    "\n",
    "In order to look for $f$, we define a set of basis functions ${\\phi}_{0}, ..., {\\phi}_{P-1}$ in the form of a linear combination:\n",
    "$$\n",
    "{\\hat f}({\\bf x}_{n}) = {\\sum}_{i = 0}^{P-1}{\\phi}_{i}({\\bf x}_{n})w_{i}\n",
    "$$\n",
    ", where $w_{i}$ is a weight vector to be optimized."
   ]
  },
  {
   "attachments": {},
   "cell_type": "markdown",
   "metadata": {},
   "source": [
    "#### <span style=\"color: yellow; \">Different Basis Functions</span>"
   ]
  },
  {
   "attachments": {},
   "cell_type": "markdown",
   "metadata": {},
   "source": [
    "We consider the following three basis functions:\n",
    "* <span style=\"color: red; \">**Linear Basis Function**</span>\n",
    "* <span style=\"color: red; \">**Polynomial Basis Function**</span>\n",
    "* <span style=\"color: red; \">**Gaussian Basis Function**</span>"
   ]
  },
  {
   "attachments": {},
   "cell_type": "markdown",
   "metadata": {},
   "source": [
    "The simplest one is <span style=\"color: red; \">**Linear Basis Function**</span>:\n",
    "$$\n",
    "{\\phi}_{i}({\\bf x}_{n}) = \\left\\{\\begin{array}{ll}\n",
    "                                    1 & i = 0 \\\\\n",
    "                                    {[{\\bf x}_{n}]}_{i} & {\\rm Otherwise}\n",
    "                                 \\end{array}\n",
    "                           \\right. \\\\\n",
    "{\\hat f}({\\bf x}_{n}) = {\\sum}^{d_{in}}_{i = 0}{\\phi}_{i}({\\bf x}_{n})w_{i} = w_{0}+{[{\\bf x}_{n}]}_{1}w_{1}+...+{[{\\bf x}_{n}]}_{d_{in}}w_{d_{in}}\n",
    "$$\n",
    ", where ${[{\\bf x}_{n}]}_{i}$ denotes the ${i}$'th component of ${\\bf x}_{n}$."
   ]
  },
  {
   "attachments": {},
   "cell_type": "markdown",
   "metadata": {},
   "source": [
    "Another possible choice of basis functions is <span style=\"color: red; \">**Polynomial Basis Function**</span>. The multidimentional case is complicated, because $i$ has to be multi-index $i = (i_{1}, ..., i_{d_{in}})$ as follows:\n",
    "$$\n",
    "{\\phi}_{i}({\\bf x}_{n}) = {\\prod}^{d_{in}}_{j} {({[{\\bf x}_{n}]}_{j})}^{{i}_{j}} \\\\\n",
    "\n",
    "{\\hat f}({\\bf x}_{n}) = {\\sum}_{i=(i_{1}, ..., i_{d_{in}})}{\\phi}_{i}({\\bf x}_{n})w_{i} \\nonumber \\\\\n",
    "=w_{(0, ..., 0)} \n",
    "+ {[{\\bf x}_{n}]}_{1}w_{(1, 0, ..., 0)}+...+{[{\\bf x}_{n}]}_{d_{in}}w_{(0, ..., 0, 1)} \n",
    "+ {({[{\\bf x}_{n}]}_{1})}^{2}w_{(2, 0, ..., 0)} + {[{\\bf x}_{n}]}_{1}{[{\\bf x}_{n}]}_{2}w_{(1, 1, ..., 0)} + {[{\\bf x}_{n}]}_{1}{[{\\bf x}_{n}]}_{3}w_{(1, 0, 1, ..., 0)} + ...\n",
    "$$\n",
    "\n",
    "Here we introduce $d_{p}$ as indicating the order of this function. Thus, \n",
    "\n",
    "$$\n",
    "d_{p} = {\\sum}^{d_{in}}_{j} {i}_{j}\n",
    "$$"
   ]
  },
  {
   "attachments": {},
   "cell_type": "markdown",
   "metadata": {},
   "source": [
    "The last basis we consider is <span style=\"color: red; \">**Gaussian Basis Function**</span>:\n",
    "$$\n",
    "{\\phi}_{i}({\\bf x}_{n}) = \\left\\{\\begin{array}{ll}\n",
    "                                    1 & i = 0 \\\\\n",
    "                                    e^{-{||{\\bf x}_{n}-{\\bf x}_{i}||}^{2}/(2{\\sigma}^{2})} & {\\rm Otherwise}\n",
    "                                 \\end{array}\n",
    "                           \\right.\n",
    "$$\n",
    ", where ${\\sigma}$ is a pre-set variance parameter. ${\\bf z}$ can be anywhere in $\\mathbb{Z}^{8}$ so we must assume ${\\bf z}={\\bf {\\bf x}_{i}}$. Hence,\n",
    "$$\n",
    "{\\hat f}({\\bf x}_{n}) = {\\sum}^{d_{in}}_{i = 0}{\\phi}_{i}({\\bf x}_{n})w_{i} = w_{0}+e^{-{||{\\bf x}_{n}-{\\bf x}_{1}||}^{2}/(2{\\sigma}^{2})}w_{1}+...+e^{-{||{\\bf x}_{n}-{\\bf x}_{d_{in}}||}^{2}/(2{\\sigma}^{2})}w_{d_{in}}\n",
    "$$\n",
    "As before, ${\\phi}_{0}$ is still a constant function ${\\phi}_{0}({\\bf x}_{n}) = 1$."
   ]
  },
  {
   "attachments": {},
   "cell_type": "markdown",
   "metadata": {},
   "source": [
    "#### <span style=\"color: yellow; \">Solution</span>"
   ]
  },
  {
   "attachments": {},
   "cell_type": "markdown",
   "metadata": {},
   "source": [
    "To simplify the loss function, we now introduce the vectors:\n",
    "$$\n",
    "{\\bf w} = {[w_{0}, w_{2}, ..., w_{P-1}]}^{T}\n",
    "$$\n",
    "and the matrices:\n",
    "$$\n",
    "{\\bf Y} = {[{\\bf y}_{1}, {\\bf y}_{2}, ..., {\\bf y}_{N}]}^{T}\n",
    "\\\\\n",
    "\\\\\n",
    "{\\bf \\Phi} = \n",
    "    \\left[\\begin{array}{c}\n",
    "        {\\phi}_{0}({\\bf x}_{1}) & {\\phi}_{1}({\\bf x}_{1}) & {\\phi}_{2}({\\bf x}_{1}) & \\cdots & {\\phi}_{P-1}({\\bf x}_{1}) \\\\\n",
    "        {\\phi}_{0}({\\bf x}_{2}) & {\\phi}_{1}({\\bf x}_{2}) & {\\phi}_{2}({\\bf x}_{2}) & \\cdots & {\\phi}_{P-1}({\\bf x}_{2}) \\\\\n",
    "        \\vdots & \\vdots & \\vdots & \\ddots & \\vdots \\\\\n",
    "        {\\phi}_{0}({\\bf x}_{N}) & {\\phi}_{1}({\\bf x}_{N}) & {\\phi}_{2}({\\bf x}_{N}) & \\cdots & {\\phi}_{P-1}({\\bf x}_{N}) \\\\\n",
    "    \\end{array}\\right]\n",
    "$$\n",
    "the latter matrix ${\\bf \\Phi}$ is named <span style=\"color: red; \">**Design Matrix**</span>.\n",
    "\n",
    "We define <span style=\"color: red; \">**a loss function**</span> as follows:\n",
    "$$\n",
    "{\\rm Loss}({\\bf w}) = \\frac{1}{N}({||{\\bf Y} - {\\bf \\Phi w}||}^{2} + \\lambda {||{\\bf w}||}^{2})\n",
    "$$\n",
    ", where $\\lambda {||{\\bf w}||}^{2}$ is a L2-Regularization term.\n",
    "\n",
    "\n",
    "This model computes the optimal(means minimizing the loss) weight vector ${\\bf w}^{*}$ by the following formula:\n",
    "$$\n",
    "{\\bf w}^{*} = {({\\bf \\Phi}^{T}{\\bf \\Phi} + \\lambda {\\bf I})}^{-1}{\\bf \\Phi}^{T}{\\bf Y}\n",
    "$$\n",
    ", where ${\\bf I}$ is an identity matrix."
   ]
  }
 ],
 "metadata": {
  "language_info": {
   "name": "python"
  },
  "orig_nbformat": 4
 },
 "nbformat": 4,
 "nbformat_minor": 2
}
